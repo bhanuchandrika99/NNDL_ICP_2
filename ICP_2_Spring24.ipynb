{
 "cells": [
  {
   "cell_type": "code",
   "execution_count": 19,
   "id": "62c12d4e",
   "metadata": {
    "scrolled": true
   },
   "outputs": [
    {
     "name": "stdout",
     "output_type": "stream",
     "text": [
      "Enter your first name: Good\n",
      "Enter your last name: evening\n",
      "Full Name: Good evening\n",
      "Output: Go vnn\n"
     ]
    }
   ],
   "source": [
    "\n",
    "def fullname(first_name, last_name):\n",
    "    return first_name + \" \" + last_name\n",
    "\n",
    "def string_alternative(full_name):\n",
    "    return full_name[::2]\n",
    "\n",
    "def main():\n",
    "    first_name = input(\"Enter your first name: \")\n",
    "    last_name = input(\"Enter your last name: \")\n",
    "    \n",
    "    full_name = fullname(first_name, last_name)\n",
    "    \n",
    "    print(\"Full Name:\", full_name)\n",
    "\n",
    "    result = string_alternative(full_name)\n",
    "    print(\"Output:\", result)\n",
    "\n",
    "if __name__ == \"__main__\":\n",
    "    main()"
   ]
  },
  {
   "cell_type": "code",
   "execution_count": 15,
   "id": "621bad43",
   "metadata": {},
   "outputs": [],
   "source": [
    "with open('C:/Users/bhanu/OneDrive/Documents/UCM/Spring24/Neural Networks/ICP_2_Spring24/input.txt','r') as input_file:\n",
    "        a = dict()\n",
    "        for sentence in input_file:\n",
    "            sentence = sentence.strip()\n",
    "            sentence = sentence.lower()\n",
    "            words = sentence.split(\" \")\n",
    "            for word in words:\n",
    "                if word in a:\n",
    "                    a[word] = a[word] + 1\n",
    "                else:\n",
    "                    a[word] = 1\n",
    "        with open('C:/Users/bhanu/OneDrive/Documents/UCM/Spring24/Neural Networks/ICP_2_Spring24/output.txt','w') as output_file:            \n",
    "            for key in list(a.keys()):\n",
    "                print(key,\":\",a[key],file = output_file)\n",
    "            "
   ]
  },
  {
   "cell_type": "code",
   "execution_count": 11,
   "id": "eb6ebc03",
   "metadata": {},
   "outputs": [
    {
     "name": "stdout",
     "output_type": "stream",
     "text": [
      "Enter the number of customers: 4\n",
      "Enter height (in inches) for customer 1: 150\n",
      "Enter height (in inches) for customer 2: 155\n",
      "Enter height (in inches) for customer 3: 145\n",
      "Enter height (in inches) for customer 4: 148\n",
      "Converted Heights using Nested Loop: [381.0, 393.7, 368.3, 375.92]\n",
      "Converted Heights using List Comprehension: [381.0, 393.7, 368.3, 375.92]\n"
     ]
    }
   ],
   "source": [
    "def convert_heights_nested(heights):\n",
    "    cm_heights = []  \n",
    "    for height in heights:\n",
    "        cm_height = height * 2.54\n",
    "        cm_heights.append(round(cm_height, 2)) \n",
    "    return cm_heights\n",
    "\n",
    "def convert_heights_list_comprehension(heights):\n",
    "    return [round(height * 2.54, 2) for height in heights]\n",
    "\n",
    "def main():\n",
    "    heights = []\n",
    "    num_customers = int(input(\"Enter the number of customers: \"))\n",
    "    for i in range(num_customers):\n",
    "        height = float(input(f\"Enter height (in inches) for customer {i + 1}: \"))\n",
    "        heights.append(height)\n",
    "        \n",
    "    converted_heights_nested = convert_heights_nested(heights)\n",
    "    print(\"Converted Heights using Nested Loop:\", converted_heights_nested)\n",
    "\n",
    "    converted_heights_list_comp = convert_heights_list_comprehension(heights)\n",
    "    print(\"Converted Heights using List Comprehension:\", converted_heights_list_comp)\n",
    "\n",
    "if __name__ == \"__main__\":\n",
    "    main()\n"
   ]
  }
 ],
 "metadata": {
  "kernelspec": {
   "display_name": "Python 3 (ipykernel)",
   "language": "python",
   "name": "python3"
  },
  "language_info": {
   "codemirror_mode": {
    "name": "ipython",
    "version": 3
   },
   "file_extension": ".py",
   "mimetype": "text/x-python",
   "name": "python",
   "nbconvert_exporter": "python",
   "pygments_lexer": "ipython3",
   "version": "3.11.3"
  }
 },
 "nbformat": 4,
 "nbformat_minor": 5
}
